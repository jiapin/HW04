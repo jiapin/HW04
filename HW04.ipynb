{
 "cells": [
  {
   "cell_type": "code",
   "execution_count": null,
   "metadata": {},
   "outputs": [],
   "source": [
    "import json\n",
    "from opencc import OpenCC\n",
    "import jieba\n",
    "import re\n",
    "from gensim.models import word2vec"
   ]
  },
  {
   "cell_type": "code",
   "execution_count": null,
   "metadata": {},
   "outputs": [],
   "source": [
    "r = '[）\\（\\：\\·\\，\\。\\“ \\”\\?\\？\\」\\「\\……\\、\\《\\》\\；\\)\\(]'\n",
    "file = ['AA','AB','AC','AD','AE','AF','AG','AH','AI','AJ','AK','AL']\n",
    "cc = OpenCC('s2t')\n",
    "\n",
    "def open_wiki():\n",
    "    result =[]\n",
    "    for a in file[0:4]:\n",
    "        for i in range(100):\n",
    "            for line in open('wiki_zh/{}/wiki_{}'.format(a,str(i).zfill(2))):\n",
    "                data = json.loads(line)\n",
    "                value = re.sub(r,'',data['text'])\n",
    "                result.append(value)\n",
    "\n",
    "    for a in file[5:8]:\n",
    "        for i in range(100):\n",
    "            for line in open('wiki_zh/{}/wiki_{}'.format(a,str(i).zfill(2))): \n",
    "                data = json.loads(line)\n",
    "                value = re.sub(r,'',data['text'])\n",
    "                result.append(value)\n",
    "\n",
    "    for a in file[9:11]:\n",
    "        for i in range(100):\n",
    "            for line in open('wiki_zh/{}/wiki_{}'.format(a,str(i).zfill(2))):\n",
    "                data = json.loads(line)\n",
    "                value = re.sub(r,'',data['text'])\n",
    "                result.append(value)\n",
    "\n",
    "    for i in range(74):\n",
    "        for line in open('wiki_zh/{}/wiki_{}'.format('AM',str(i).zfill(2))):\n",
    "            data = json.loads(line)\n",
    "            value = re.sub(r,'',data['text'])\n",
    "            result.append(value)\n",
    "            \n",
    "    return result\n",
    "    \n",
    "result = open_wiki()\n",
    "\n",
    "print(len(result))"
   ]
  },
  {
   "cell_type": "code",
   "execution_count": null,
   "metadata": {},
   "outputs": [],
   "source": [
    "def chine(result):\n",
    "    value = []\n",
    "    for line in result:\n",
    "        a = cc.convert(line)\n",
    "        value.append(a)\n",
    "    return value\n",
    "\n",
    "value=chine(result)"
   ]
  },
  {
   "cell_type": "code",
   "execution_count": null,
   "metadata": {},
   "outputs": [],
   "source": [
    "def get_stopword_list():       \n",
    "    with open('wiki_zh/cn_stopwords.txt') as f: \n",
    "        stopword_list = [word.strip('\\n') for word in f.readlines()]\n",
    "    return stopword_list"
   ]
  }
 ],
 "metadata": {
  "kernelspec": {
   "display_name": "Python 3",
   "language": "python",
   "name": "python3"
  },
  "language_info": {
   "codemirror_mode": {
    "name": "ipython",
    "version": 3
   },
   "file_extension": ".py",
   "mimetype": "text/x-python",
   "name": "python",
   "nbconvert_exporter": "python",
   "pygments_lexer": "ipython3",
   "version": "3.7.6"
  }
 },
 "nbformat": 4,
 "nbformat_minor": 4
}
